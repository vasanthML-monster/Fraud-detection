{
  "nbformat": 4,
  "nbformat_minor": 0,
  "metadata": {
    "colab": {
      "name": "summit.ipynb",
      "provenance": [],
      "collapsed_sections": []
    },
    "kernelspec": {
      "name": "python3",
      "display_name": "Python 3"
    },
    "accelerator": "TPU"
  },
  "cells": [
    {
      "cell_type": "code",
      "metadata": {
        "id": "ZxlMe0k8vLEt",
        "colab_type": "code",
        "colab": {}
      },
      "source": [
        "import pandas as pd\n",
        "import numpy as np\n",
        "import matplotlib.pyplot as plt\n",
        "import seaborn as sns"
      ],
      "execution_count": 0,
      "outputs": []
    },
    {
      "cell_type": "code",
      "metadata": {
        "id": "l-vQhhz0vVzA",
        "colab_type": "code",
        "outputId": "d940a731-60d5-48bc-8f89-605b9672ccc2",
        "colab": {
          "base_uri": "https://localhost:8080/",
          "height": 120
        }
      },
      "source": [
        "from google.colab import drive\n",
        "drive.mount('/content/drive')"
      ],
      "execution_count": 3,
      "outputs": [
        {
          "output_type": "stream",
          "text": [
            "Go to this URL in a browser: https://accounts.google.com/o/oauth2/auth?client_id=947318989803-6bn6qk8qdgf4n4g3pfee6491hc0brc4i.apps.googleusercontent.com&redirect_uri=urn%3aietf%3awg%3aoauth%3a2.0%3aoob&response_type=code&scope=email%20https%3a%2f%2fwww.googleapis.com%2fauth%2fdocs.test%20https%3a%2f%2fwww.googleapis.com%2fauth%2fdrive%20https%3a%2f%2fwww.googleapis.com%2fauth%2fdrive.photos.readonly%20https%3a%2f%2fwww.googleapis.com%2fauth%2fpeopleapi.readonly\n",
            "\n",
            "Enter your authorization code:\n",
            "··········\n",
            "Mounted at /content/drive\n"
          ],
          "name": "stdout"
        }
      ]
    },
    {
      "cell_type": "code",
      "metadata": {
        "id": "AKTe8h89wBxx",
        "colab_type": "code",
        "colab": {
          "base_uri": "https://localhost:8080/",
          "height": 384
        },
        "outputId": "91c1484d-4b5c-4c49-c263-d39c39009b52"
      },
      "source": [
        "Full_data= pd.read_csv('/content/drive/My Drive/summitminds/Merged_data.csv')\n",
        "Full_data.head()"
      ],
      "execution_count": 4,
      "outputs": [
        {
          "output_type": "execute_result",
          "data": {
            "text/html": [
              "<div>\n",
              "<style scoped>\n",
              "    .dataframe tbody tr th:only-of-type {\n",
              "        vertical-align: middle;\n",
              "    }\n",
              "\n",
              "    .dataframe tbody tr th {\n",
              "        vertical-align: top;\n",
              "    }\n",
              "\n",
              "    .dataframe thead th {\n",
              "        text-align: right;\n",
              "    }\n",
              "</style>\n",
              "<table border=\"1\" class=\"dataframe\">\n",
              "  <thead>\n",
              "    <tr style=\"text-align: right;\">\n",
              "      <th></th>\n",
              "      <th>Unnamed: 0</th>\n",
              "      <th>customerBillingAddress</th>\n",
              "      <th>customerDevice</th>\n",
              "      <th>customerEmail</th>\n",
              "      <th>customerIPAddress</th>\n",
              "      <th>customerPhone</th>\n",
              "      <th>fraudulent</th>\n",
              "      <th>orderAmount</th>\n",
              "      <th>orderId</th>\n",
              "      <th>orderShippingAddress</th>\n",
              "      <th>orderState</th>\n",
              "      <th>transactionId</th>\n",
              "      <th>paymentMethodId</th>\n",
              "      <th>transactionAmount</th>\n",
              "      <th>transactionFailed</th>\n",
              "      <th>paymentMethodRegistrationFailure</th>\n",
              "      <th>paymentMethodType</th>\n",
              "      <th>paymentMethodProvider</th>\n",
              "      <th>paymentMethodIssuer</th>\n",
              "    </tr>\n",
              "  </thead>\n",
              "  <tbody>\n",
              "    <tr>\n",
              "      <th>0</th>\n",
              "      <td>0</td>\n",
              "      <td>5493 Jones Islands\\r\\nBrownside, CA 51896</td>\n",
              "      <td>yyeiaxpltf82440jnb3v</td>\n",
              "      <td>josephhoward@yahoo.com</td>\n",
              "      <td>8.129.104.40</td>\n",
              "      <td>400-108-5415</td>\n",
              "      <td>False</td>\n",
              "      <td>18</td>\n",
              "      <td>vjbdvd</td>\n",
              "      <td>5493 Jones Islands\\r\\nBrownside, CA 51896</td>\n",
              "      <td>pending</td>\n",
              "      <td>a9lcj51r</td>\n",
              "      <td>wt07xm68b</td>\n",
              "      <td>18</td>\n",
              "      <td>False</td>\n",
              "      <td>True</td>\n",
              "      <td>card</td>\n",
              "      <td>JCB 16 digit</td>\n",
              "      <td>Citizens First Banks</td>\n",
              "    </tr>\n",
              "    <tr>\n",
              "      <th>1</th>\n",
              "      <td>1</td>\n",
              "      <td>5493 Jones Islands\\r\\nBrownside, CA 51896</td>\n",
              "      <td>yyeiaxpltf82440jnb3v</td>\n",
              "      <td>josephhoward@yahoo.com</td>\n",
              "      <td>8.129.104.40</td>\n",
              "      <td>400-108-5415</td>\n",
              "      <td>False</td>\n",
              "      <td>26</td>\n",
              "      <td>yp6x27</td>\n",
              "      <td>5493 Jones Islands\\r\\nBrownside, CA 51896</td>\n",
              "      <td>fulfilled</td>\n",
              "      <td>y4wcv03i</td>\n",
              "      <td>wt07xm68b</td>\n",
              "      <td>26</td>\n",
              "      <td>False</td>\n",
              "      <td>True</td>\n",
              "      <td>card</td>\n",
              "      <td>JCB 16 digit</td>\n",
              "      <td>Citizens First Banks</td>\n",
              "    </tr>\n",
              "    <tr>\n",
              "      <th>2</th>\n",
              "      <td>2</td>\n",
              "      <td>356 Elizabeth Inlet Suite 120\\r\\nPort Joshuabu...</td>\n",
              "      <td>r0jpm7xaeqqa3kr6mzum</td>\n",
              "      <td>evansjeffery@yahoo.com</td>\n",
              "      <td>219.173.211.202</td>\n",
              "      <td>1-788-091-7546</td>\n",
              "      <td>True</td>\n",
              "      <td>45</td>\n",
              "      <td>nlghpa</td>\n",
              "      <td>898 Henry Ports\\r\\nNew Keithview, CA 95893-2497</td>\n",
              "      <td>fulfilled</td>\n",
              "      <td>5mi94sfw</td>\n",
              "      <td>41ug157xz</td>\n",
              "      <td>45</td>\n",
              "      <td>False</td>\n",
              "      <td>False</td>\n",
              "      <td>bitcoin</td>\n",
              "      <td>American Express</td>\n",
              "      <td>Bastion Banks</td>\n",
              "    </tr>\n",
              "    <tr>\n",
              "      <th>3</th>\n",
              "      <td>3</td>\n",
              "      <td>356 Elizabeth Inlet Suite 120\\r\\nPort Joshuabu...</td>\n",
              "      <td>r0jpm7xaeqqa3kr6mzum</td>\n",
              "      <td>evansjeffery@yahoo.com</td>\n",
              "      <td>219.173.211.202</td>\n",
              "      <td>1-788-091-7546</td>\n",
              "      <td>True</td>\n",
              "      <td>23</td>\n",
              "      <td>uw0eeb</td>\n",
              "      <td>356 Elizabeth Inlet Suite 120\\r\\nPort Joshuabu...</td>\n",
              "      <td>fulfilled</td>\n",
              "      <td>br8ba1nu</td>\n",
              "      <td>41ug157xz</td>\n",
              "      <td>23</td>\n",
              "      <td>False</td>\n",
              "      <td>False</td>\n",
              "      <td>bitcoin</td>\n",
              "      <td>American Express</td>\n",
              "      <td>Bastion Banks</td>\n",
              "    </tr>\n",
              "    <tr>\n",
              "      <th>4</th>\n",
              "      <td>4</td>\n",
              "      <td>356 Elizabeth Inlet Suite 120\\r\\nPort Joshuabu...</td>\n",
              "      <td>r0jpm7xaeqqa3kr6mzum</td>\n",
              "      <td>evansjeffery@yahoo.com</td>\n",
              "      <td>219.173.211.202</td>\n",
              "      <td>1-788-091-7546</td>\n",
              "      <td>True</td>\n",
              "      <td>43</td>\n",
              "      <td>bn44oh</td>\n",
              "      <td>5093 Bryan Forks\\r\\nJoshuaton, FM 01565-9801</td>\n",
              "      <td>fulfilled</td>\n",
              "      <td>a33145ss</td>\n",
              "      <td>y3xp697jx</td>\n",
              "      <td>43</td>\n",
              "      <td>True</td>\n",
              "      <td>True</td>\n",
              "      <td>bitcoin</td>\n",
              "      <td>VISA 16 digit</td>\n",
              "      <td>Solace Banks</td>\n",
              "    </tr>\n",
              "  </tbody>\n",
              "</table>\n",
              "</div>"
            ],
            "text/plain": [
              "   Unnamed: 0  ...   paymentMethodIssuer\n",
              "0           0  ...  Citizens First Banks\n",
              "1           1  ...  Citizens First Banks\n",
              "2           2  ...         Bastion Banks\n",
              "3           3  ...         Bastion Banks\n",
              "4           4  ...          Solace Banks\n",
              "\n",
              "[5 rows x 19 columns]"
            ]
          },
          "metadata": {
            "tags": []
          },
          "execution_count": 4
        }
      ]
    },
    {
      "cell_type": "code",
      "metadata": {
        "id": "M9OMj8Giwjqt",
        "colab_type": "code",
        "colab": {}
      },
      "source": [
        "Full_data=Full_data.iloc[:,1:]\n",
        "Fcols=list(Full_data.columns)"
      ],
      "execution_count": 0,
      "outputs": []
    },
    {
      "cell_type": "code",
      "metadata": {
        "id": "RdD_P0xLxOVr",
        "colab_type": "code",
        "outputId": "79e6923b-660c-491a-ff85-1c86509e5908",
        "colab": {
          "base_uri": "https://localhost:8080/",
          "height": 371
        }
      },
      "source": [
        "print(Fcols)\n",
        "\n",
        "print(\"Dtypes:\",Full_data.dtypes)"
      ],
      "execution_count": 6,
      "outputs": [
        {
          "output_type": "stream",
          "text": [
            "['customerBillingAddress', 'customerDevice', 'customerEmail', 'customerIPAddress', 'customerPhone', 'fraudulent', 'orderAmount', 'orderId', 'orderShippingAddress', 'orderState', 'transactionId', 'paymentMethodId', 'transactionAmount', 'transactionFailed', 'paymentMethodRegistrationFailure', 'paymentMethodType', 'paymentMethodProvider', 'paymentMethodIssuer']\n",
            "Dtypes: customerBillingAddress              object\n",
            "customerDevice                      object\n",
            "customerEmail                       object\n",
            "customerIPAddress                   object\n",
            "customerPhone                       object\n",
            "fraudulent                            bool\n",
            "orderAmount                          int64\n",
            "orderId                             object\n",
            "orderShippingAddress                object\n",
            "orderState                          object\n",
            "transactionId                       object\n",
            "paymentMethodId                     object\n",
            "transactionAmount                    int64\n",
            "transactionFailed                     bool\n",
            "paymentMethodRegistrationFailure      bool\n",
            "paymentMethodType                   object\n",
            "paymentMethodProvider               object\n",
            "paymentMethodIssuer                 object\n",
            "dtype: object\n"
          ],
          "name": "stdout"
        }
      ]
    },
    {
      "cell_type": "code",
      "metadata": {
        "id": "ZrCxVuASxlqE",
        "colab_type": "code",
        "outputId": "49db01b1-a64b-4885-9204-404c8b2410fb",
        "colab": {
          "base_uri": "https://localhost:8080/",
          "height": 334
        }
      },
      "source": [
        "\n",
        "for i in Fcols:\n",
        "  if Full_data[i].dtype ==\"object\":\n",
        "    Full_data[i]=Full_data[i].astype('category')\n",
        "\n",
        "print(Full_data.dtypes)"
      ],
      "execution_count": 7,
      "outputs": [
        {
          "output_type": "stream",
          "text": [
            "customerBillingAddress              category\n",
            "customerDevice                      category\n",
            "customerEmail                       category\n",
            "customerIPAddress                   category\n",
            "customerPhone                       category\n",
            "fraudulent                              bool\n",
            "orderAmount                            int64\n",
            "orderId                             category\n",
            "orderShippingAddress                category\n",
            "orderState                          category\n",
            "transactionId                       category\n",
            "paymentMethodId                     category\n",
            "transactionAmount                      int64\n",
            "transactionFailed                       bool\n",
            "paymentMethodRegistrationFailure        bool\n",
            "paymentMethodType                   category\n",
            "paymentMethodProvider               category\n",
            "paymentMethodIssuer                 category\n",
            "dtype: object\n"
          ],
          "name": "stdout"
        }
      ]
    },
    {
      "cell_type": "code",
      "metadata": {
        "id": "8dbg7HlJyiNK",
        "colab_type": "code",
        "colab": {}
      },
      "source": [
        "Cat_cols=list(Full_data.columns[Full_data.dtypes==\"category\"])\n",
        "\n",
        "Cat_cols.remove('orderState')\n",
        "\n",
        "\n",
        "Bool_cols=list(Full_data.columns[Full_data.dtypes==\"bool\"])\n",
        "\n",
        "from sklearn import preprocessing\n",
        "le = preprocessing.LabelEncoder()\n",
        "for i in Bool_cols:\n",
        "  Full_data[i]=le.fit_transform(Full_data[i])\n",
        "\n"
      ],
      "execution_count": 0,
      "outputs": []
    },
    {
      "cell_type": "code",
      "metadata": {
        "id": "xHH-dcEPIPKz",
        "colab_type": "code",
        "colab": {}
      },
      "source": [
        "Full_data=pd.get_dummies(Full_data,columns=['orderState'])\n"
      ],
      "execution_count": 0,
      "outputs": []
    },
    {
      "cell_type": "code",
      "metadata": {
        "id": "EgrIKcRHBz6R",
        "colab_type": "code",
        "colab": {}
      },
      "source": [
        "X=Full_data[Full_data.columns[Full_data.columns != \"fraudulent\"]]\n",
        "Y=Full_data[\"fraudulent\"]\n",
        "from sklearn.model_selection import train_test_split\n",
        "X_train, X_test, y_train, y_test = train_test_split( X, Y, test_size=0.20, random_state=42)\n"
      ],
      "execution_count": 0,
      "outputs": []
    },
    {
      "cell_type": "markdown",
      "metadata": {
        "id": "eBoi6-t1Fn2L",
        "colab_type": "text"
      },
      "source": [
        "Feature importance"
      ]
    },
    {
      "cell_type": "code",
      "metadata": {
        "id": "584_qpU6FaIn",
        "colab_type": "code",
        "colab": {}
      },
      "source": [
        "from sklearn.feature_extraction import FeatureHasher\n",
        "import copy\n",
        "from sklearn.naive_bayes import GaussianNB\n",
        "from sklearn.metrics import precision_score\n",
        "All_features=list(X_train.columns)\n",
        "Precision={}\n",
        "for feature in Cat_cols:\n",
        "  \n",
        "  X_train_hash = copy.copy(X_train[feature])\n",
        "  X_test_hash = copy.copy(X_test[feature])\n",
        "\n",
        "  \n",
        "  h = FeatureHasher(n_features=1000,input_type=\"string\")\n",
        "  X_train_hash = h.transform(X_train_hash.values)\n",
        "  X_test_hash = h.transform(X_test_hash.values)\n",
        "\n",
        "  #model\n",
        "  gnb = GaussianNB()\n",
        "  gnb.fit(X_train_hash.toarray(), y_train)\n",
        "  y_pred = gnb.predict(X_test_hash.toarray())\n",
        "\n",
        "  Precision[feature]=precision_score(y_test, y_pred, average='weighted')\n",
        "  \n",
        "\n",
        "intcol=list(X_train.columns[X_train.dtypes!='category'])\n",
        "for feature in intcol:\n",
        "  #model\n",
        "  gnb = GaussianNB()\n",
        "  gnb.fit(X_train_hash.toarray(), y_train)\n",
        "  y_pred = gnb.predict(X_test_hash.toarray())\n",
        "  Precision[feature]=precision_score(y_test, y_pred, average='weighted')\n",
        "\n",
        "  \n",
        "\n",
        "\n"
      ],
      "execution_count": 0,
      "outputs": []
    },
    {
      "cell_type": "code",
      "metadata": {
        "id": "hjCJHLXKGOIY",
        "colab_type": "code",
        "colab": {
          "base_uri": "https://localhost:8080/",
          "height": 486
        },
        "outputId": "3c267e0a-48b3-4247-eb9b-0a16a2e77571"
      },
      "source": [
        "# ploting importance precision as metric\n",
        "fig= plt.figure(figsize=(20,5))\n",
        "plt.bar(range(len(Precision)),list(Precision.values()), align='center')\n",
        "plt.xticks(range(len(Precision)), list(Precision.keys()),rotation='vertical')\n",
        "plt.show()"
      ],
      "execution_count": 22,
      "outputs": [
        {
          "output_type": "display_data",
          "data": {
            "image/png": "[encoded data removed]",
            "text/plain": [
              "<Figure size 1440x360 with 1 Axes>"
            ]
          },
          "metadata": {
            "tags": []
          }
        }
      ]
    },
    {
      "cell_type": "markdown",
      "metadata": {
        "id": "Qg4rF3BbILKS",
        "colab_type": "text"
      },
      "source": [
        "**Model with all available features**"
      ]
    },
    {
      "cell_type": "code",
      "metadata": {
        "id": "lgmm-1xHGaHX",
        "colab_type": "code",
        "colab": {}
      },
      "source": [
        "\n",
        "X_train_hash = copy.copy(X_train)\n",
        "X_test_hash = copy.copy(X_test)\n",
        "\n",
        "for i in range(X_train_hash.shape[1]):\n",
        "    X_train_hash.iloc[:,i]=X_train_hash.iloc[:,i].astype('str')\n",
        "for i in range(X_test_hash.shape[1]):\n",
        "    X_test_hash.iloc[:,i]=X_test_hash.iloc[:,i].astype('str')\n",
        "h = FeatureHasher(n_features=10000,input_type=\"string\")\n",
        "X_train_hash = h.transform(X_train_hash.values)\n",
        "X_test_hash = h.transform(X_test_hash.values)\n",
        "\n",
        "X_train_hash=pd.DataFrame(X_train_hash.toarray())\n",
        "X_test_hash=pd.DataFrame(X_test_hash.toarray())\n",
        "\n",
        "App_trainX=X_train.drop(columns=Cat_cols)\n",
        "App_testX=X_test.drop(columns=Cat_cols)\n",
        "\n"
      ],
      "execution_count": 0,
      "outputs": []
    },
    {
      "cell_type": "code",
      "metadata": {
        "id": "GVrILaC7civZ",
        "colab_type": "code",
        "colab": {}
      },
      "source": [
        "X_train_hash=App_trainX.join(X_train_hash)\n",
        "X_test_hash=App_testX.join(X_test_hash)\n"
      ],
      "execution_count": 0,
      "outputs": []
    },
    {
      "cell_type": "code",
      "metadata": {
        "id": "T7-_YO_iHJ6b",
        "colab_type": "code",
        "outputId": "4290cc45-f3fa-4680-e91f-aee8981dad4b",
        "colab": {
          "base_uri": "https://localhost:8080/",
          "height": 217
        }
      },
      "source": [
        "X_train_hash.fillna(method=\"ffill\",inplace=True)\n",
        "X_test_hash.fillna(method=\"ffill\",inplace=True)\n",
        "X_test_hash.fillna(0,inplace=True)\n",
        "X_train_hash.isna().sum()\n",
        "X_test_hash.isna().sum()"
      ],
      "execution_count": 25,
      "outputs": [
        {
          "output_type": "execute_result",
          "data": {
            "text/plain": [
              "orderAmount                         0\n",
              "transactionAmount                   0\n",
              "transactionFailed                   0\n",
              "paymentMethodRegistrationFailure    0\n",
              "orderState_failed                   0\n",
              "                                   ..\n",
              "9995                                0\n",
              "9996                                0\n",
              "9997                                0\n",
              "9998                                0\n",
              "9999                                0\n",
              "Length: 10007, dtype: int64"
            ]
          },
          "metadata": {
            "tags": []
          },
          "execution_count": 25
        }
      ]
    },
    {
      "cell_type": "code",
      "metadata": {
        "id": "3AGdlqaScNmz",
        "colab_type": "code",
        "colab": {}
      },
      "source": [
        "#Import Gaussian Naive Bayes model\n",
        "from sklearn.naive_bayes import GaussianNB\n",
        "\n",
        "#Create a Gaussian Classifier\n",
        "gnb = GaussianNB()\n",
        "\n",
        "#Train the model using the training sets\n",
        "gnb.fit(X_train_hash, y_train)\n",
        "\n",
        "#Predict the response for test dataset\n",
        "y_pred = gnb.predict(X_test_hash)"
      ],
      "execution_count": 0,
      "outputs": []
    },
    {
      "cell_type": "markdown",
      "metadata": {
        "id": "MSMLCp-epQh2",
        "colab_type": "text"
      },
      "source": [
        "Classification Report of the model\n"
      ]
    },
    {
      "cell_type": "code",
      "metadata": {
        "id": "TgMX3VgInZnL",
        "colab_type": "code",
        "colab": {
          "base_uri": "https://localhost:8080/",
          "height": 184
        },
        "outputId": "c6cefd4a-34de-4540-d0d8-117c3bcdbd8b"
      },
      "source": [
        "#Import scikit-learn metrics module for accuracy calculation\n",
        "from sklearn import metrics\n",
        "\n",
        "# Model classification report\n",
        "print(\"Classification report:\",)\n",
        "print(metrics.classification_report(y_test, y_pred))"
      ],
      "execution_count": 27,
      "outputs": [
        {
          "output_type": "stream",
          "text": [
            "Classification report:\n",
            "              precision    recall  f1-score   support\n",
            "\n",
            "           0       0.60      0.30      0.40        79\n",
            "           1       0.35      0.65      0.46        46\n",
            "\n",
            "    accuracy                           0.43       125\n",
            "   macro avg       0.48      0.48      0.43       125\n",
            "weighted avg       0.51      0.43      0.42       125\n",
            "\n"
          ],
          "name": "stdout"
        }
      ]
    }
  ]
}